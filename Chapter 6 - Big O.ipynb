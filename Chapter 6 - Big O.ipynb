{
 "cells": [
  {
   "cell_type": "markdown",
   "metadata": {},
   "source": [
    "# Chapter 6: Big-O"
   ]
  },
  {
   "cell_type": "markdown",
   "metadata": {},
   "source": [
    "Big-O notation is used to describe the efficiency of an algorithm in both space and time.\n",
    "\n",
    "It is expressed in terms of variables in the algorithm; oftentimes, there might be more than one variable which affects the complexity of an algorithm.\n",
    "\n",
    "Recall the example of the airplane vs internet transfer!"
   ]
  },
  {
   "cell_type": "markdown",
   "metadata": {},
   "source": [
    "### $O$ vs. $\\Theta$ vs. $\\Omega$\n",
    "\n",
    "1. **Big-O** gives an upper bound on runtime (an algorithm is at least as fast as this)\n",
    "2. **Big-Omega** gives a lower bound on runtime (an algorithm is at least as slow as this)\n",
    "3. **Big-Theta** gives both! (Tight bound; an algorithm isn't faster or slower than this)"
   ]
  },
  {
   "cell_type": "markdown",
   "metadata": {},
   "source": [
    "### Best/Worst/Expected Time Cases\n",
    "##### Three ways to describe the performance of an algorithm:\n",
    "\n",
    "1. _Best Case_ gives us the best possible runtime we could get from this algorithm (usually for a specific set of inputs)\n",
    "2. _Worst Case_ gives us the worst possible runtime we could get from this algorithm (again, usually for specific set of inputs).\n",
    "3. _Expected Case_ gives us the runtime we get for the vast majority of input cases.\n",
    "\n",
    "We usually describe an algorithm by its expected case or worst case."
   ]
  },
  {
   "cell_type": "markdown",
   "metadata": {},
   "source": [
    "### Space Complexity\n",
    "\n",
    "We usually also care about how much memory is used up during an algorithm. We can also use O-notation to estimate this mathematically!"
   ]
  },
  {
   "cell_type": "markdown",
   "metadata": {},
   "source": [
    "### Dropping Constants\n",
    "Note that we drop constants because it is possible for certain algorithms to be faster at $O(N)$ than $O(1)$. O-notation just describes the rate of increase."
   ]
  }
 ],
 "metadata": {
  "kernelspec": {
   "display_name": "Python 3",
   "language": "python",
   "name": "python3"
  },
  "language_info": {
   "codemirror_mode": {
    "name": "ipython",
    "version": 3
   },
   "file_extension": ".py",
   "mimetype": "text/x-python",
   "name": "python",
   "nbconvert_exporter": "python",
   "pygments_lexer": "ipython3",
   "version": "3.6.4"
  }
 },
 "nbformat": 4,
 "nbformat_minor": 2
}
