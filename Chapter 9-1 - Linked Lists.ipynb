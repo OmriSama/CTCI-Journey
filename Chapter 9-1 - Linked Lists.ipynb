{
 "cells": [
  {
   "cell_type": "markdown",
   "metadata": {},
   "source": [
    "# Chapter 9-1: Linked Lists"
   ]
  },
  {
   "cell_type": "markdown",
   "metadata": {},
   "source": [
    "A **Linked List** is a data structure that stores a sequence of nodes, linked from one to the other.\n",
    "Each node points to the next node, and in a doubly-linked-list, also to the last one."
   ]
  },
  {
   "cell_type": "markdown",
   "metadata": {},
   "source": [
    "Here we have `O(1)` removal and addition of elements, but `O(N)` search/access since we have to 'scroll' through the list to point to find the right node."
   ]
  },
  {
   "cell_type": "markdown",
   "metadata": {},
   "source": [
    "Below is a definition of a `Node` class, and a `LinkedList` class that stores a reference to the head `Node`."
   ]
  },
  {
   "cell_type": "code",
   "execution_count": null,
   "metadata": {},
   "outputs": [],
   "source": [
    "# Node class\n",
    "class Node(object):\n",
    "    self.payload = None\n",
    "    self.next = None\n",
    "    \n",
    "    def __init__(self, val):\n",
    "        self.payload = val\n",
    "\n",
    "# LinkedList class\n",
    "class LinkedList(object):\n",
    "    self.head = None\n",
    "    \n",
    "    def __init__(self, val = None): # Instantiates a LinkedList object from a value passed in\n",
    "        self.head = Node(val)\n",
    "    \n",
    "    @classmethod\n",
    "    def arr2LL(cls, arr): # Generates a Linked list from a given array of values\n",
    "        if isinstance(arr, list):\n",
    "            if(len(arr) == 0):\n",
    "                return cls()\n",
    "            else:\n",
    "                \n",
    "        else:\n",
    "            print(\"Error! Argument passed is not an array\")\n",
    "            return None"
   ]
  }
 ],
 "metadata": {
  "kernelspec": {
   "display_name": "Python 3",
   "language": "python",
   "name": "python3"
  },
  "language_info": {
   "codemirror_mode": {
    "name": "ipython",
    "version": 3
   },
   "file_extension": ".py",
   "mimetype": "text/x-python",
   "name": "python",
   "nbconvert_exporter": "python",
   "pygments_lexer": "ipython3",
   "version": "3.6.4"
  }
 },
 "nbformat": 4,
 "nbformat_minor": 2
}
